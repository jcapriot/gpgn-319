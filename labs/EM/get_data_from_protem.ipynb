{
 "cells": [
  {
   "cell_type": "code",
   "execution_count": null,
   "id": "1c489351-7f79-4dad-a4de-ffb51482148c",
   "metadata": {},
   "outputs": [],
   "source": [
    "import serial"
   ]
  },
  {
   "cell_type": "code",
   "execution_count": null,
   "id": "a0238ab6-d61d-4e4d-87c8-f76d36110367",
   "metadata": {},
   "outputs": [],
   "source": [
    "# Use this to list the available serial ports\n",
    "# Then choose the one that the Protem is attached to.\n",
    "from serial.tools import list_ports\n",
    "port = list(list_ports.comports())\n",
    "for p in port:\n",
    "    print(p.device)"
   ]
  },
  {
   "cell_type": "code",
   "execution_count": 3,
   "id": "79b899ad-4a4f-43c5-9023-e6366da59ec5",
   "metadata": {},
   "outputs": [],
   "source": [
    "# Set up the serial port\n",
    "ser = serial.Serial(port='/dev/cu.usbserial-1110', baudrate=9600, timeout=5)  # Replace 'COM3' with your port and 9600 with your baud rate"
   ]
  },
  {
   "cell_type": "code",
   "execution_count": 7,
   "id": "f04d4c67-508e-49dd-9b0d-9f8e2e3a98b7",
   "metadata": {
    "scrolled": true
   },
   "outputs": [
    {
     "ename": "PortNotOpenError",
     "evalue": "Attempting to use a port that is not open",
     "output_type": "error",
     "traceback": [
      "\u001b[0;31m---------------------------------------------------------------------------\u001b[0m",
      "\u001b[0;31mPortNotOpenError\u001b[0m                          Traceback (most recent call last)",
      "Cell \u001b[0;32mIn[7], line 12\u001b[0m\n\u001b[1;32m      9\u001b[0m \u001b[38;5;28;01mwhile\u001b[39;00m \u001b[38;5;28;01mTrue\u001b[39;00m:\n\u001b[1;32m     10\u001b[0m     \u001b[38;5;28;01mtry\u001b[39;00m:\n\u001b[1;32m     11\u001b[0m         \u001b[38;5;66;03m# Read a line of data from the serial port\u001b[39;00m\n\u001b[0;32m---> 12\u001b[0m         line \u001b[38;5;241m=\u001b[39m \u001b[43mser\u001b[49m\u001b[38;5;241;43m.\u001b[39;49m\u001b[43mreadline\u001b[49m\u001b[43m(\u001b[49m\u001b[43m)\u001b[49m\u001b[38;5;241m.\u001b[39mdecode()\n\u001b[1;32m     13\u001b[0m         \u001b[38;5;28;01mif\u001b[39;00m line:\n\u001b[1;32m     14\u001b[0m             \u001b[38;5;66;03m# Write the data to the file\u001b[39;00m\n\u001b[1;32m     15\u001b[0m             f\u001b[38;5;241m.\u001b[39mwrite(line \u001b[38;5;241m+\u001b[39m \u001b[38;5;124m'\u001b[39m\u001b[38;5;130;01m\\n\u001b[39;00m\u001b[38;5;124m'\u001b[39m)\n",
      "File \u001b[0;32m/opt/anaconda3/envs/simulation/lib/python3.11/site-packages/serial/serialposix.py:560\u001b[0m, in \u001b[0;36mSerial.read\u001b[0;34m(self, size)\u001b[0m\n\u001b[1;32m    554\u001b[0m \u001b[38;5;250m\u001b[39m\u001b[38;5;124;03m\"\"\"\\\u001b[39;00m\n\u001b[1;32m    555\u001b[0m \u001b[38;5;124;03mRead size bytes from the serial port. If a timeout is set it may\u001b[39;00m\n\u001b[1;32m    556\u001b[0m \u001b[38;5;124;03mreturn less characters as requested. With no timeout it will block\u001b[39;00m\n\u001b[1;32m    557\u001b[0m \u001b[38;5;124;03muntil the requested number of bytes is read.\u001b[39;00m\n\u001b[1;32m    558\u001b[0m \u001b[38;5;124;03m\"\"\"\u001b[39;00m\n\u001b[1;32m    559\u001b[0m \u001b[38;5;28;01mif\u001b[39;00m \u001b[38;5;129;01mnot\u001b[39;00m \u001b[38;5;28mself\u001b[39m\u001b[38;5;241m.\u001b[39mis_open:\n\u001b[0;32m--> 560\u001b[0m     \u001b[38;5;28;01mraise\u001b[39;00m PortNotOpenError()\n\u001b[1;32m    561\u001b[0m read \u001b[38;5;241m=\u001b[39m \u001b[38;5;28mbytearray\u001b[39m()\n\u001b[1;32m    562\u001b[0m timeout \u001b[38;5;241m=\u001b[39m Timeout(\u001b[38;5;28mself\u001b[39m\u001b[38;5;241m.\u001b[39m_timeout)\n",
      "\u001b[0;31mPortNotOpenError\u001b[0m: Attempting to use a port that is not open"
     ]
    }
   ],
   "source": [
    "# Run this cell, then interact with the ProTEM\n",
    "\n",
    "# 1) Go to the file menu (F)\n",
    "# 2) Select the files to send\n",
    "# 3) Press enter after choosing the last file\n",
    "# 4) You should then start to see lines printing out here.\n",
    "\n",
    "with open('serial_data.txt', 'w') as f:\n",
    "    while True:\n",
    "        try:\n",
    "            # Read a line of data from the serial port\n",
    "            line = ser.readline().decode()\n",
    "            if line:\n",
    "                # Write the data to the file\n",
    "                f.write(line + '\\n')\n",
    "                print(line)  # Optionally print the data to the console\n",
    "                ser.write(b\"\\r\\n\")\n",
    "        except KeyboardInterrupt:\n",
    "            break  # Exit the loop with Ctrl+C"
   ]
  },
  {
   "cell_type": "code",
   "execution_count": 5,
   "id": "378bf728-d2e4-402b-846d-a2d9b68736cc",
   "metadata": {},
   "outputs": [],
   "source": [
    "# Close the serial port\n",
    "ser.close()"
   ]
  }
 ],
 "metadata": {
  "kernelspec": {
   "display_name": "Python 3 (ipykernel)",
   "language": "python",
   "name": "python3"
  },
  "language_info": {
   "codemirror_mode": {
    "name": "ipython",
    "version": 3
   },
   "file_extension": ".py",
   "mimetype": "text/x-python",
   "name": "python",
   "nbconvert_exporter": "python",
   "pygments_lexer": "ipython3",
   "version": "3.11.10"
  }
 },
 "nbformat": 4,
 "nbformat_minor": 5
}
