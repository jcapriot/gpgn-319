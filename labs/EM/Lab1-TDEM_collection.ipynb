{
 "cells": [
  {
   "cell_type": "markdown",
   "id": "7e30047d-9c54-4fa8-ad29-9522f525a1ca",
   "metadata": {},
   "source": [
    "# TDEM Data collection\n",
    "Objectives:\n",
    "1. Learn to collect TDEM data.\n",
    "2. Take detailed notes!\n",
    "3. Plot collected $B$-field decay curves."
   ]
  },
  {
   "cell_type": "markdown",
   "id": "5d2c10a4-9f18-40ba-99eb-5e0732d324c7",
   "metadata": {},
   "source": [
    "## Instrumentation\n",
    "\n",
    "Use three different TDEM instruments:\n",
    "\n",
    "For electrical soundings we will use:\n",
    "* Geonics ProTEM receiver and EM-47 Transmitter\n",
    "* WalkTEM with and without rigid receiver\n",
    "\n",
    "For UXO identification, we will use:\n",
    "* Geonics EM-63"
   ]
  },
  {
   "cell_type": "markdown",
   "id": "ac157317-1264-4328-9515-684fd39f94fb",
   "metadata": {},
   "source": [
    "### ProTEM & EM47\n",
    "![ProTEM and EM47](media/protem-em47.png)\n",
    "\n",
    "[ProTEM User Manual (on Canvas)](https://elearning.mines.edu/files/7434917)"
   ]
  },
  {
   "cell_type": "markdown",
   "id": "4e0b0bfd-ec85-4ad1-9c12-04ebd64cb751",
   "metadata": {},
   "source": [
    "### WalkTEM\n",
    "\n",
    "![ABEM WalkTEM](media/WalkTEM.png \"ABEM WalkTEM\")\n",
    "\n",
    "[WalkTEM User Manual (On Canvas)](https://elearning.mines.edu/files/7434925/download?download_frd=1)"
   ]
  },
  {
   "cell_type": "markdown",
   "id": "7d42967b-20f1-4937-a582-017794850805",
   "metadata": {},
   "source": [
    "### EM63\n",
    "\n",
    "![EM61](media/em-63.png \"Geonics EM61\")\n",
    "(Petterman 2011)"
   ]
  },
  {
   "cell_type": "markdown",
   "id": "1fe50c1e-ed47-4811-b07f-f52330348578",
   "metadata": {},
   "source": [
    "## Survey Setup\n",
    "\n",
    "In Kafadar Commons\n",
    "\n",
    "### Sounding experiment:\n",
    "* Lay out a 40m by 40m **square** loop of wire for the Tx\n",
    "    * Use wooden posts at the corners for stability.\n",
    "* Flag the center\n",
    "\n",
    "### UXO experiment:\n",
    "* Determine a line spacing for the UXO grid\n",
    "* Setup and place marker flags to help guide the data collection."
   ]
  },
  {
   "cell_type": "markdown",
   "id": "135f35b1-c785-4cb2-98c9-439f6993db48",
   "metadata": {},
   "source": [
    "## Data Collection\n",
    "\n",
    "I expect you to collect the data using each of the instruments.\n",
    "\n",
    "\n",
    "### ProTEM\n",
    "* Collect central loop sounding data in 20 gate mode at repetition rates of:\n",
    "    * 285 Hz\n",
    "    * 30 Hz\n",
    "* Determine appropriate gain levels for each repetition rate.\n",
    "* Collect 3 component reciever data.\n",
    "\n",
    "\n",
    "### WalkTem\n",
    "* Collect central loop sounding data using:\n",
    "    * "
   ]
  }
 ],
 "metadata": {
  "kernelspec": {
   "display_name": "Python 3 (ipykernel)",
   "language": "python",
   "name": "python3"
  },
  "language_info": {
   "codemirror_mode": {
    "name": "ipython",
    "version": 3
   },
   "file_extension": ".py",
   "mimetype": "text/x-python",
   "name": "python",
   "nbconvert_exporter": "python",
   "pygments_lexer": "ipython3",
   "version": "3.11.10"
  }
 },
 "nbformat": 4,
 "nbformat_minor": 5
}
