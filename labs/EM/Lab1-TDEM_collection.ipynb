{
 "cells": [
  {
   "cell_type": "markdown",
   "id": "7e30047d-9c54-4fa8-ad29-9522f525a1ca",
   "metadata": {},
   "source": [
    "# Lab EM1 - TDEM Data collection\n",
    "\n",
    "Due: 12:00 pm (noon) 1/17/2025\n",
    "\n",
    "Objectives:\n",
    "1. Learn to collect TDEM data.\n",
    "2. Take detailed notes!\n",
    "3. Plot collected voltage decay curves."
   ]
  },
  {
   "cell_type": "code",
   "execution_count": 1,
   "id": "f8ed468e-d4fa-43ee-b9d6-3344c860038a",
   "metadata": {},
   "outputs": [],
   "source": [
    "import matplotlib.pyplot as plt\n",
    "import numpy as np"
   ]
  },
  {
   "cell_type": "markdown",
   "id": "8583f308-0856-4f0a-8ef2-ac55e16e95ff",
   "metadata": {},
   "source": [
    "## Safety\n",
    "> The currents used for the time-domain soundings are high (>2 Amp). Always assume a wire is on and never touch an active wire.\n",
    "> \n",
    "> (Currents between 100-200 mAmp can be lethal)."
   ]
  },
  {
   "cell_type": "markdown",
   "id": "5d2c10a4-9f18-40ba-99eb-5e0732d324c7",
   "metadata": {},
   "source": [
    "## Instrumentation\n",
    "\n",
    "Use three different TDEM instruments:\n",
    "\n",
    "For electrical soundings we will use:\n",
    "* Geonics ProTEM receiver and EM-47 Transmitter\n",
    "* WalkTEM with and without rigid receiver\n",
    "\n",
    "For UXO identification, we will use:\n",
    "* Geonics EM-63"
   ]
  },
  {
   "cell_type": "markdown",
   "id": "ac157317-1264-4328-9515-684fd39f94fb",
   "metadata": {},
   "source": [
    "### ProTEM & EM47\n",
    "![ProTEM and EM47](media/protem-em47.png)\n",
    "\n",
    "[ProTEM User Manual (on Canvas)](https://elearning.mines.edu/files/7434917)"
   ]
  },
  {
   "cell_type": "markdown",
   "id": "4e0b0bfd-ec85-4ad1-9c12-04ebd64cb751",
   "metadata": {},
   "source": [
    "### WalkTEM\n",
    "\n",
    "![ABEM WalkTEM](media/WalkTEM.png \"ABEM WalkTEM\")\n",
    "\n",
    "[WalkTEM User Manual (On Canvas)](https://elearning.mines.edu/files/7434925/download?download_frd=1)"
   ]
  },
  {
   "cell_type": "markdown",
   "id": "7d42967b-20f1-4937-a582-017794850805",
   "metadata": {},
   "source": [
    "### EM63\n",
    "\n",
    "![EM63](media/em-63.png \"Geonics EM61\")\n",
    "\n",
    "(Petterman 2011)"
   ]
  },
  {
   "cell_type": "markdown",
   "id": "6d444114-8627-49a1-b7f0-74f089234cc3",
   "metadata": {},
   "source": [
    "## Grid Setup\n",
    "\n",
    "In Kafadar Commons\n",
    "\n",
    "### Sounding experiment:\n",
    "* Set the corners of a 40m by 40m **square** loop for the Tx\n",
    "    * Use wooden posts at the corners for stability.\n",
    "* Flag the center\n",
    "\n",
    "### UXO experiment:\n",
    "* Determine a line spacing for the UXO grid\n",
    "* Setup and place marker flags to help guide the data collection."
   ]
  },
  {
   "cell_type": "markdown",
   "id": "e6eb94f3-670b-4065-bdfd-34af97c7ff51",
   "metadata": {},
   "source": [
    "## Instrument setup\n",
    "\n",
    "### Soundings:\n",
    "\n",
    "* Layout a single wire on the 40m x 40m square. You will re-use the wire for both the WalkTEM and EM47 Transmitters.\n",
    "\n",
    "> **IMPORTANT**\n",
    ">\n",
    "> Do **NOT** leave Tx wire on a spool (it can signficantly alter the turn off times).\n",
    "> If there's extra wire, pull it off and make a \"U\" shape making it as narrow as possible.\n",
    ">\n",
    "> You want to make the slack take up as small an area as possible without making any loops.\n",
    "\n",
    "#### EM47\n",
    "* Place the HF-3D-1 Rx coil in the center of the Tx loop\n",
    "    * Orient the x and y components to be parallel to the Tx loop sides\n",
    "    * Level it.\n",
    "* Keep the ProTEM at least 6m away from the Rx attenna\n",
    "* Important connections:\n",
    "    * Ensure all batteries are inserted (Tx battery attached, ProTEM battery inserted)\n",
    "    * The EM47 to the Tx cable\n",
    "    * The EM47 to the ProTEM using the reference cable. Be aware of the polarity.\n",
    "    * The HF-3D-1 receiver coil to the Pre-Amp\n",
    "    * The Pre-Amp to the ProTEM\n",
    "\n",
    "#### WalkTEM\n",
    "* Important connections:\n",
    "    * WalkTEM to the Tx cable\n",
    "        * With a damping resistor (200 ohm for 40m x 40m) connected in parallel with the Tx wire.\n",
    "    * WalkTEM input A to the RC-5 Coil(Rigid 0.5m x 0.5m)\n",
    "    * WalkTEM input B to the RC-200 Coil (10m x 10m wire)\n",
    "    * External 12v Battery to WalkTEM\n",
    "* Setup the 10m x 10m RC-200 coil centered with the Tx loop, with sides aligned with the Tx sides\n",
    "* Place the RC-5 antenna at teh center of the Tx loop, with sides aligned with the Tx sides\n",
    "\n"
   ]
  },
  {
   "cell_type": "markdown",
   "id": "135f35b1-c785-4cb2-98c9-439f6993db48",
   "metadata": {},
   "source": [
    "## Data Collection\n",
    "\n",
    "I expect you to collect data using each of the instruments.\n",
    "\n",
    "\n",
    "### ProTEM\n",
    "* Collect central loop sounding data in 20 gate mode at repetition rates of:\n",
    "    * 285 Hz\n",
    "    * 30 Hz\n",
    "* Determine appropriate gain levels for each repetition rate.\n",
    "* Collect 3 component reciever data.\n",
    "\n",
    "\n",
    "### WalkTem\n",
    "* Collect central loop sounding data using:\n",
    "    * Dual Moment 10ms & 39 Gates\n",
    "    * Dual Moment 25ms & 45 Gates\n",
    "* Use both the Rigid Rx and a 10m x 10m wire receiver\n",
    "\n",
    "### EM 63\n",
    "* Collect data along lines over the UXO grid."
   ]
  },
  {
   "cell_type": "markdown",
   "id": "563f8359-8f0a-49f6-97ba-3e7b140a7114",
   "metadata": {},
   "source": [
    "## Data Recording\n",
    "After the surveys collect the data from each instrument, and make some simple plots of them.\n",
    "\n",
    "### ProTEM\n",
    "You should include plots of:\n",
    "* X, Y, and Z components of the receiver voltage\n",
    "* For each repetition rate (seperately).\n",
    "* Plot $\\log_{10}$(Voltage) vs Time Gate #\n",
    "* Create 1 plot for each component, but plot every sounding collected for that component and repetition rate together.\n",
    "\n",
    "### WalkTEM\n",
    "Include plots of:\n",
    "* Received voltage for each antenna\n",
    "* Create 1 plot for each antenna, but plot every sounding collected for that antenna together.\n",
    "\n",
    "* Plot $\\log_{10}$(Voltage) vs Time Gate #\n",
    "\n",
    "### EM-63\n",
    "If successful, for each time gates 5, 10, 15, and 20 (seperately):\n",
    "* Make a 2D Map of Recieved Voltage.\n",
    "\n",
    "\n",
    "Further details about the data file formats will be provide by Monday, but I encourage the eager student to look through them yourself and try to decipher them!"
   ]
  },
  {
   "cell_type": "markdown",
   "id": "03cf2fb5-ec5b-41c3-af36-36fefa65aa92",
   "metadata": {},
   "source": [
    "# Deliverables\n",
    "* The relevant pages of your field notebook\n",
    "* A summary of the steps for collecting data with each instrument\n",
    "* The requested plots of the voltage data."
   ]
  },
  {
   "cell_type": "markdown",
   "id": "8cf9932d-919f-4832-8f7c-e007fd43da4f",
   "metadata": {},
   "source": [
    "# Reading in data"
   ]
  },
  {
   "cell_type": "markdown",
   "id": "8b55c72a-1a98-45c2-b32a-a3f9a857dbf9",
   "metadata": {
    "editable": true,
    "slideshow": {
     "slide_type": "slide"
    },
    "tags": []
   },
   "source": [
    "## ProTEM\n",
    "\n",
    "* The ProTEM data output file is rather simple, there are two types of lines\n",
    "    * Header lines\n",
    "    * Record Lines"
   ]
  },
  {
   "cell_type": "markdown",
   "id": "922ddc66-b693-4cb9-b77f-77ea1c0559ab",
   "metadata": {
    "editable": true,
    "slideshow": {
     "slide_type": "subslide"
    },
    "tags": []
   },
   "source": [
    "Header lines (identifiable by the fact they contain the word \"HEADER\") contain the following information:\n",
    "```\n",
    "line# station# HEADER DDMMYY current  turn_off_time   tx_length1  tx_length2  rx_area   tx_type   operator record#(not important) file#\n",
    "```\n",
    "\n",
    "Which are all entered into the ProTEM whenever a header is saved (saving a header also creates a new file in the ProTEM)."
   ]
  },
  {
   "cell_type": "code",
   "execution_count": 2,
   "id": "329290c2-ce94-4233-94c9-793bf432eba6",
   "metadata": {
    "editable": true,
    "slideshow": {
     "slide_type": "skip"
    },
    "tags": []
   },
   "outputs": [],
   "source": [
    "# For example, line 4 in the data file would be parsed as:\n",
    "from pathlib import Path\n",
    "\n",
    "file_name = Path('data')/'lab1_protem.txt'\n",
    "with open(file_name, 'r') as f:\n",
    "    lines = f.readlines()"
   ]
  },
  {
   "cell_type": "code",
   "execution_count": 3,
   "id": "41adc158-3225-4971-bfb9-14838ae7717f",
   "metadata": {
    "editable": true,
    "slideshow": {
     "slide_type": "subslide"
    },
    "tags": []
   },
   "outputs": [
    {
     "data": {
      "text/plain": [
       "['000001',\n",
       " '000000HEADER',\n",
       " '100125',\n",
       " '4.0',\n",
       " '002.5',\n",
       " '40.0',\n",
       " '40.0',\n",
       " '31.4',\n",
       " '47',\n",
       " '111',\n",
       " '00',\n",
       " '02']"
      ]
     },
     "execution_count": 3,
     "metadata": {},
     "output_type": "execute_result"
    }
   ],
   "source": [
    "hdr_line = lines[3].split()\n",
    "hdr_line"
   ]
  },
  {
   "cell_type": "code",
   "execution_count": 4,
   "id": "1649d076-0753-4da0-a700-511e182186c1",
   "metadata": {
    "editable": true,
    "slideshow": {
     "slide_type": "subslide"
    },
    "tags": []
   },
   "outputs": [],
   "source": [
    "date = hdr_line[2]\n",
    "current = float(hdr_line[3]) # In Amps\n",
    "to_time = float(hdr_line[4])  # In micro seconds\n",
    "tx_sizes = (float(hdr_line[5]), float(hdr_line[6]))\n",
    "rx_area = float(hdr_line[7])\n",
    "# the rest are not too important for our purposes"
   ]
  },
  {
   "cell_type": "code",
   "execution_count": 5,
   "id": "fb42ef27-12f8-4a77-8e9c-44c4e1505493",
   "metadata": {
    "editable": true,
    "slideshow": {
     "slide_type": "fragment"
    },
    "tags": []
   },
   "outputs": [
    {
     "data": {
      "text/plain": [
       "('100125', 4.0, 2.5, (40.0, 40.0), 31.4)"
      ]
     },
     "execution_count": 5,
     "metadata": {},
     "output_type": "execute_result"
    }
   ],
   "source": [
    "date, current, to_time, tx_sizes, rx_area"
   ]
  },
  {
   "cell_type": "markdown",
   "id": "46518d68-cb30-4bf0-91a1-0eccb1af5fa1",
   "metadata": {
    "editable": true,
    "slideshow": {
     "slide_type": "subslide"
    },
    "tags": []
   },
   "source": [
    "The data record lines in the file containt the following information:\n",
    "\n",
    "```\n",
    "Line# Station# Frequency Gain&SyncMode Primary_Field T1 T2 T3 ... T20+  Instrument_Record#\n",
    "```\n",
    "\n",
    "Of importance to note is that this is more of a \"fixed width\" file format for each piece of data, you unofrtunately cannot just split on whitespaces...\n",
    "\n",
    "So line 6 in the data file is:"
   ]
  },
  {
   "cell_type": "code",
   "execution_count": 6,
   "id": "896e86a7-83f5-468b-9e15-0164338e104c",
   "metadata": {
    "editable": true,
    "slideshow": {
     "slide_type": "subslide"
    },
    "tags": []
   },
   "outputs": [
    {
     "data": {
      "text/plain": [
       "'000001 000000Z H 6R +159E3  4613.0 2767.0 1666.0 1082.0 742.70 521.90 293.50 164.10 102.50 59.230 35.580 22.210 14.170 9.1860 6.0480 4.0310 2.7140 1.9300 1.1520 .93400+            50000699\\n'"
      ]
     },
     "execution_count": 6,
     "metadata": {},
     "output_type": "execute_result"
    }
   ],
   "source": [
    "record_line = lines[5]\n",
    "record_line"
   ]
  },
  {
   "cell_type": "markdown",
   "id": "b865303b-3eb2-4496-8519-cf7ff7cbee88",
   "metadata": {
    "editable": true,
    "slideshow": {
     "slide_type": "subslide"
    },
    "tags": []
   },
   "source": [
    "Which we could parse as:"
   ]
  },
  {
   "cell_type": "code",
   "execution_count": 1,
   "id": "540f7846-ac6a-436e-9c7f-b026bebdb873",
   "metadata": {
    "editable": true,
    "slideshow": {
     "slide_type": "fragment"
    },
    "tags": []
   },
   "outputs": [
    {
     "ename": "NameError",
     "evalue": "name 'record_line' is not defined",
     "output_type": "error",
     "traceback": [
      "\u001b[1;31m---------------------------------------------------------------------------\u001b[0m",
      "\u001b[1;31mNameError\u001b[0m                                 Traceback (most recent call last)",
      "Cell \u001b[1;32mIn[1], line 1\u001b[0m\n\u001b[1;32m----> 1\u001b[0m line_number  \u001b[38;5;241m=\u001b[39m \u001b[43mrecord_line\u001b[49m[\u001b[38;5;241m0\u001b[39m:\u001b[38;5;241m6\u001b[39m]\n\u001b[0;32m      2\u001b[0m station_number \u001b[38;5;241m=\u001b[39m record_line[\u001b[38;5;241m7\u001b[39m:\u001b[38;5;241m13\u001b[39m]\n\u001b[0;32m      3\u001b[0m component \u001b[38;5;241m=\u001b[39m record_line[\u001b[38;5;241m13\u001b[39m]\n",
      "\u001b[1;31mNameError\u001b[0m: name 'record_line' is not defined"
     ]
    }
   ],
   "source": [
    "line_number  = record_line[0:6]\n",
    "station_number = record_line[7:13]\n",
    "component = record_line[13]\n",
    "frequency_key = record_line[15]\n",
    "gain = int(record_line[17])\n",
    "syncmode = record_line[18]\n",
    "primary_field = float(record_line[20:27])\n",
    "\n",
    "# Each gates take up 7 characters, and there are 20 gates\n",
    "# The first column of the line that has this data looks to be\n",
    "# 27\n",
    "# First read all of the voltage data\n",
    "voltages = record_line[27:27+20*7]\n",
    "# Then split them up (and convert them to floats)\n",
    "# using a fixed width...\n",
    "voltages = [float(voltages[7*i:7*(i+1)]) for i in range(20)]\n",
    "\n",
    "# The last number is not important"
   ]
  },
  {
   "cell_type": "code",
   "execution_count": 8,
   "id": "98b16f95-5455-42d6-8b87-c898a00ff432",
   "metadata": {
    "editable": true,
    "slideshow": {
     "slide_type": "subslide"
    },
    "tags": []
   },
   "outputs": [
    {
     "data": {
      "text/plain": [
       "('000001', '000000', 'Z', 'H', 6, 'R', '+159E3 ')"
      ]
     },
     "execution_count": 8,
     "metadata": {},
     "output_type": "execute_result"
    }
   ],
   "source": [
    "line_number, station_number, component, frequency_key, gain, syncmode, primary_field"
   ]
  },
  {
   "cell_type": "code",
   "execution_count": 9,
   "id": "a04fff55-5a78-4b14-a221-a0c700b0e15b",
   "metadata": {
    "editable": true,
    "slideshow": {
     "slide_type": "fragment"
    },
    "tags": []
   },
   "outputs": [
    {
     "name": "stdout",
     "output_type": "stream",
     "text": [
      "[4613.0, 2767.0, 1666.0, 1082.0, 742.7, 521.9, 293.5, 164.1, 102.5, 59.23, 35.58, 22.21, 14.17, 9.186, 6.048, 4.031, 2.714, 1.93, 1.152, 0.934]\n"
     ]
    }
   ],
   "source": [
    "print(voltages)"
   ]
  },
  {
   "cell_type": "code",
   "execution_count": 10,
   "id": "a08e2279-d553-4afc-b6de-0f175eff6d1a",
   "metadata": {
    "editable": true,
    "slideshow": {
     "slide_type": "subslide"
    },
    "tags": []
   },
   "outputs": [
    {
     "data": {
      "text/plain": [
       "[<matplotlib.lines.Line2D at 0x120ed8310>]"
      ]
     },
     "execution_count": 10,
     "metadata": {},
     "output_type": "execute_result"
    },
    {
     "data": {
      "image/png": "[encoded data removed]",
      "text/plain": [
       "<Figure size 640x480 with 1 Axes>"
      ]
     },
     "metadata": {},
     "output_type": "display_data"
    }
   ],
   "source": [
    "plt.semilogy(voltages)"
   ]
  },
  {
   "cell_type": "markdown",
   "id": "e5b0d585-dd42-4243-8c97-d7fe97b287db",
   "metadata": {
    "editable": true,
    "slideshow": {
     "slide_type": "subslide"
    },
    "tags": []
   },
   "source": [
    "### Notes from data collection\n",
    "* What gain did we settle on for each (30Hz) frequency?\n",
    "  * 30Hz: 6\n",
    "  * 285Hz: 1\n",
    "* What amount of current did we use for each?\n",
    "   * 30Hz: 4 Amps\n",
    "   * 285Hz: 1 Amp\n",
    "* How many records per component did we take? -> 5"
   ]
  },
  {
   "cell_type": "markdown",
   "id": "0f4832b5-436e-43cf-b03b-f3b80b3d263e",
   "metadata": {
    "editable": true,
    "slideshow": {
     "slide_type": "fragment"
    },
    "tags": []
   },
   "source": [
    "Let's look at the data file to see which lines correspond to which records we want to actually use"
   ]
  },
  {
   "cell_type": "markdown",
   "id": "84f3775b-600e-47a7-b992-f341941155c9",
   "metadata": {
    "editable": true,
    "slideshow": {
     "slide_type": "slide"
    },
    "tags": []
   },
   "source": [
    "## WalkTEM"
   ]
  },
  {
   "cell_type": "markdown",
   "id": "6553ed8c-2327-46bb-a7f7-ec67e855efa0",
   "metadata": {
    "editable": true,
    "slideshow": {
     "slide_type": ""
    },
    "tags": []
   },
   "source": [
    "The WalkTEM data ended up collecting ### Time channels of both high and low moment data.\n",
    "\n",
    "Line 2 in this file lists the centers of the time gates (in microseconds):"
   ]
  },
  {
   "cell_type": "code",
   "execution_count": 12,
   "id": "ac45aec4-8a3f-4e75-ae2d-f83a85e81905",
   "metadata": {
    "editable": true,
    "slideshow": {
     "slide_type": "skip"
    },
    "tags": []
   },
   "outputs": [],
   "source": [
    "walk_data_file = Path('data')/'lab1_walktem.txt'\n",
    "with open(walk_data_file) as f:\n",
    "    data_lines = f.readlines()"
   ]
  },
  {
   "cell_type": "code",
   "execution_count": 13,
   "id": "d1013462-18bd-41e9-8f1c-47c3e8856a2d",
   "metadata": {
    "editable": true,
    "slideshow": {
     "slide_type": "subslide"
    },
    "tags": []
   },
   "outputs": [
    {
     "name": "stdout",
     "output_type": "stream",
     "text": [
      "46 [1.0, 3.19, 5.19, 7.19, 9.19, 11.19, 13.19, 15.19, 17.19, 19.19, 21.69, 25.19, 29.69, 35.19, 41.69, 49.69, 59.69, 72.19, 87.69, 107.19, 131.69, 161.69, 198.69, 244.69, 301.69, 372.69, 461.19, 570.69, 706.19, 874.69, 1084.19, 1343.69, 1665.69, 2065.69, 2562.19, 3178.19, 3942.69, 4891.69, 6069.19, 7530.19, 9343.69, 11594.69, 14388.19, 17855.19, 22157.69, 29539.69]\n"
     ]
    }
   ],
   "source": [
    "gate_centers = [float(time) for time in data_lines[1].split()]\n",
    "n_gates = len(gate_centers)\n",
    "print(n_gates, gate_centers)"
   ]
  },
  {
   "cell_type": "markdown",
   "id": "7a8f6b4e-ff86-4ad0-9bb2-9d56ac5f5063",
   "metadata": {
    "editable": true,
    "slideshow": {
     "slide_type": "subslide"
    },
    "tags": []
   },
   "source": [
    "It would appear that the data recorded by the two channels are marked by header lines in the data.\n",
    "The small Rx antenna was on channel 0, and the large Rx antenna was on channel 1.\n",
    "\n",
    "Each line of data is clearly labeled what each column represents. For example line 3"
   ]
  },
  {
   "cell_type": "code",
   "execution_count": 15,
   "id": "e7fc15bd-eede-4adc-af52-64326effa030",
   "metadata": {
    "editable": true,
    "slideshow": {
     "slide_type": "fragment"
    },
    "tags": []
   },
   "outputs": [
    {
     "name": "stdout",
     "output_type": "stream",
     "text": [
      "15:09:11.819 145023 7.62 16.59 11.64 12.29 0 0 1 45\n"
     ]
    }
   ],
   "source": [
    "line_split = data_lines[20].split()\n",
    "\n",
    "time = line_split[0].replace(\"_\", \".\")  # Time measurement started\n",
    "dt = int(line_split[1])  #Time since start\n",
    "current = float(line_split[2])\n",
    "temperature = float(line_split[3])\n",
    "vOn = float(line_split[4])\n",
    "vOff = float(line_split[5])\n",
    "imax = int(line_split[6])\n",
    "imin = int(line_split[7])\n",
    "moment_id = int(line_split[8])  # 1 for high moment 2 for low moment\n",
    "volts = [float(dat) for dat in line_split[9:]]\n",
    "volts\n",
    "print(time, dt, current, temperature, vOn, vOff, imax, imin, moment_id, len(volts))"
   ]
  },
  {
   "cell_type": "code",
   "execution_count": 21,
   "id": "01157a3a-5df5-448c-9fdc-e16dc8ef281a",
   "metadata": {
    "editable": true,
    "slideshow": {
     "slide_type": "subslide"
    },
    "tags": []
   },
   "outputs": [
    {
     "data": {
      "text/plain": [
       "[<matplotlib.lines.Line2D at 0x140e829d0>]"
      ]
     },
     "execution_count": 21,
     "metadata": {},
     "output_type": "execute_result"
    },
    {
     "data": {
      "image/png": "[encoded data removed]",
      "text/plain": [
       "<Figure size 640x480 with 1 Axes>"
      ]
     },
     "metadata": {},
     "output_type": "display_data"
    }
   ],
   "source": [
    "plt.loglog(gate_centers[:45], -np.array(volts))\n",
    "plt.loglog(gate_centers[:45], np.array(volts))"
   ]
  },
  {
   "cell_type": "code",
   "execution_count": null,
   "id": "a24e602e-897b-4dc4-a20a-1d62841d8a5b",
   "metadata": {
    "editable": true,
    "slideshow": {
     "slide_type": ""
    },
    "tags": []
   },
   "outputs": [],
   "source": []
  }
 ],
 "metadata": {
  "kernelspec": {
   "display_name": "Python 3 (ipykernel)",
   "language": "python",
   "name": "python3"
  },
  "language_info": {
   "codemirror_mode": {
    "name": "ipython",
    "version": 3
   },
   "file_extension": ".py",
   "mimetype": "text/x-python",
   "name": "python",
   "nbconvert_exporter": "python",
   "pygments_lexer": "ipython3",
   "version": "3.12.6"
  }
 },
 "nbformat": 4,
 "nbformat_minor": 5
}
