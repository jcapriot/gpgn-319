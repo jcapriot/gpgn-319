{
 "cells": [
  {
   "cell_type": "markdown",
   "id": "7e30047d-9c54-4fa8-ad29-9522f525a1ca",
   "metadata": {},
   "source": [
    "# Lab EM1 - TDEM Data collection\n",
    "\n",
    "Due: 12:00 pm (noon) 1/17/2025\n",
    "\n",
    "Objectives:\n",
    "1. Learn to collect TDEM data.\n",
    "2. Take detailed notes!\n",
    "3. Plot collected voltage decay curves."
   ]
  },
  {
   "cell_type": "markdown",
   "id": "8583f308-0856-4f0a-8ef2-ac55e16e95ff",
   "metadata": {},
   "source": [
    "## Safety\n",
    "> The currents used for the time-domain soundings are high (>2 Amp). Always assume a wire is on and never touch an active wire.\n",
    "> \n",
    "> (Currents between 100-200 mAmp can be lethal)."
   ]
  },
  {
   "cell_type": "markdown",
   "id": "5d2c10a4-9f18-40ba-99eb-5e0732d324c7",
   "metadata": {},
   "source": [
    "## Instrumentation\n",
    "\n",
    "Use three different TDEM instruments:\n",
    "\n",
    "For electrical soundings we will use:\n",
    "* Geonics ProTEM receiver and EM-47 Transmitter\n",
    "* WalkTEM with and without rigid receiver\n",
    "\n",
    "For UXO identification, we will use:\n",
    "* Geonics EM-63"
   ]
  },
  {
   "cell_type": "markdown",
   "id": "ac157317-1264-4328-9515-684fd39f94fb",
   "metadata": {},
   "source": [
    "### ProTEM & EM47\n",
    "![ProTEM and EM47](media/protem-em47.png)\n",
    "\n",
    "[ProTEM User Manual (on Canvas)](https://elearning.mines.edu/files/7434917)"
   ]
  },
  {
   "cell_type": "markdown",
   "id": "4e0b0bfd-ec85-4ad1-9c12-04ebd64cb751",
   "metadata": {},
   "source": [
    "### WalkTEM\n",
    "\n",
    "![ABEM WalkTEM](media/WalkTEM.png \"ABEM WalkTEM\")\n",
    "\n",
    "[WalkTEM User Manual (On Canvas)](https://elearning.mines.edu/files/7434925/download?download_frd=1)"
   ]
  },
  {
   "cell_type": "markdown",
   "id": "7d42967b-20f1-4937-a582-017794850805",
   "metadata": {},
   "source": [
    "### EM63\n",
    "\n",
    "![EM61](media/em-63.png \"Geonics EM61\")\n",
    "\n",
    "(Petterman 2011)"
   ]
  },
  {
   "cell_type": "markdown",
   "id": "6d444114-8627-49a1-b7f0-74f089234cc3",
   "metadata": {},
   "source": [
    "## Grid Setup\n",
    "\n",
    "In Kafadar Commons\n",
    "\n",
    "### Sounding experiment:\n",
    "* Set the corners of a 40m by 40m **square** loop for the Tx\n",
    "    * Use wooden posts at the corners for stability.\n",
    "* Flag the center\n",
    "\n",
    "### UXO experiment:\n",
    "* Determine a line spacing for the UXO grid\n",
    "* Setup and place marker flags to help guide the data collection."
   ]
  },
  {
   "cell_type": "markdown",
   "id": "e6eb94f3-670b-4065-bdfd-34af97c7ff51",
   "metadata": {},
   "source": [
    "## Instrument setup\n",
    "\n",
    "### Soundings:\n",
    "\n",
    "* Layout a single wire on the 40m x 40m square. You will re-use the wire for both the WalkTEM and EM47 Transmitters.\n",
    "\n",
    "> **IMPORTANT**\n",
    ">\n",
    "> Do **NOT** leave Tx wire on a spool (it can signficantly alter the turn off times).\n",
    "> If there's extra wire, pull it off and make a \"U\" shape making it as narrow as possible.\n",
    ">\n",
    "> You want to make the slack take up as small an area as possible without making any loops.\n",
    "\n",
    "#### EM47\n",
    "* Place the HF-3D-1 Rx coil in the center of the Tx loop\n",
    "    * Orient the x and y components to be parallel to the Tx loop sides\n",
    "    * Level it.\n",
    "* Keep the ProTEM at least 6m away from the Rx attenna\n",
    "* Important connections:\n",
    "    * Ensure all batteries are inserted (Tx battery attached, ProTEM battery inserted)\n",
    "    * The EM47 to the Tx cable\n",
    "    * The EM47 to the ProTEM using the reference cable. Be aware of the polarity.\n",
    "    * The HF-3D-1 receiver coil to the Pre-Amp\n",
    "    * The Pre-Amp to the ProTEM\n",
    "\n",
    "#### WalkTEM\n",
    "* Important connections:\n",
    "    * WalkTEM to the Tx cable\n",
    "        * With a damping resistor (200 ohm for 40m x 40m) connected in parallel with the Tx wire.\n",
    "    * WalkTEM input A to the RC-5 Coil(Rigid 0.5m x 0.5m)\n",
    "    * WalkTEM input B to the RC-200 Coil (10m x 10m wire)\n",
    "    * External 12v Battery to WalkTEM\n",
    "* Setup the 10m x 10m RC-200 coil centered with the Tx loop, with sides aligned with the Tx sides\n",
    "* Place the RC-5 antenna at teh center of the Tx loop, with sides aligned with the Tx sides\n",
    "\n"
   ]
  },
  {
   "cell_type": "markdown",
   "id": "135f35b1-c785-4cb2-98c9-439f6993db48",
   "metadata": {},
   "source": [
    "## Data Collection\n",
    "\n",
    "I expect you to collect data using each of the instruments.\n",
    "\n",
    "\n",
    "### ProTEM\n",
    "* Collect central loop sounding data in 20 gate mode at repetition rates of:\n",
    "    * 285 Hz\n",
    "    * 30 Hz\n",
    "* Determine appropriate gain levels for each repetition rate.\n",
    "* Collect 3 component reciever data.\n",
    "\n",
    "\n",
    "### WalkTem\n",
    "* Collect central loop sounding data using:\n",
    "    * Dual Moment 10ms & 39 Gates\n",
    "    * Dual Moment 25ms & 45 Gates\n",
    "* Use both the Rigid Rx and a 10m x 10m wire receiver\n",
    "\n",
    "### EM 63\n",
    "* Collect data along lines over the UXO grid."
   ]
  },
  {
   "cell_type": "markdown",
   "id": "563f8359-8f0a-49f6-97ba-3e7b140a7114",
   "metadata": {},
   "source": [
    "## Data Recording\n",
    "After the surveys collect the data from each instrument, and make some simple plots of them.\n",
    "\n",
    "### ProTEM\n",
    "You should include plots of:\n",
    "* X, Y, and Z components of the receiver voltage\n",
    "* For each repetition rate (seperately).\n",
    "* Plot $\\log_{10}$(Voltage) vs Time Gate #\n",
    "\n",
    "### WalkTEM\n",
    "Include plots of:\n",
    "* Received voltage for each antenna\n",
    "* Plot $\\log_{10}$(Voltage) vs Time Gate #\n",
    "\n",
    "### EM-63\n",
    "If successful, for each time gates 5, 10, 15, and 20 (seperately):\n",
    "* Make a 2D Map of Recieved Voltage.\n",
    "\n",
    "\n",
    "Further details about the data file formats will be provide by Monday, but I encourage the eager student to look through them yourself and try to decipher them!"
   ]
  },
  {
   "cell_type": "markdown",
   "id": "03cf2fb5-ec5b-41c3-af36-36fefa65aa92",
   "metadata": {},
   "source": [
    "# Deliverables\n",
    "* The relevant pages of your field notebook\n",
    "* A summary of the steps for collecting data with each instrument\n",
    "* The requested plots of the voltage data."
   ]
  }
 ],
 "metadata": {
  "kernelspec": {
   "display_name": "Python 3 (ipykernel)",
   "language": "python",
   "name": "python3"
  },
  "language_info": {
   "codemirror_mode": {
    "name": "ipython",
    "version": 3
   },
   "file_extension": ".py",
   "mimetype": "text/x-python",
   "name": "python",
   "nbconvert_exporter": "python",
   "pygments_lexer": "ipython3",
   "version": "3.12.6"
  }
 },
 "nbformat": 4,
 "nbformat_minor": 5
}
