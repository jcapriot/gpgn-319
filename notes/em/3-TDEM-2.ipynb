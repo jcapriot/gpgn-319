{
 "cells": [
  {
   "cell_type": "markdown",
   "id": "97c3eb64-20d1-4e81-8156-3bf0b7af2631",
   "metadata": {},
   "source": [
    "# Processing & Interpretations"
   ]
  },
  {
   "cell_type": "markdown",
   "id": "86fa2e51-c35c-4f8a-beb1-3bf42cc1e3b7",
   "metadata": {},
   "source": [
    "* Recap of lab\n",
    "* Processing\n",
    "* Simple interpretation techniques"
   ]
  }
 ],
 "metadata": {
  "kernelspec": {
   "display_name": "Python 3 (ipykernel)",
   "language": "python",
   "name": "python3"
  },
  "language_info": {
   "codemirror_mode": {
    "name": "ipython",
    "version": 3
   },
   "file_extension": ".py",
   "mimetype": "text/x-python",
   "name": "python",
   "nbconvert_exporter": "python",
   "pygments_lexer": "ipython3",
   "version": "3.11.10"
  }
 },
 "nbformat": 4,
 "nbformat_minor": 5
}
