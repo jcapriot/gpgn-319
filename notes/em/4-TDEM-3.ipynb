{
 "cells": [
  {
   "cell_type": "code",
   "execution_count": 131,
   "id": "7fffba9e-efcf-4f96-9f94-def2c56531f0",
   "metadata": {},
   "outputs": [],
   "source": [
    "import simpeg.electromagnetics.time_domain as tdem\n",
    "import numpy as np\n",
    "import matplotlib.pyplot as plt\n",
    "from scipy.constants import mu_0\n",
    "\n",
    "from geoana.em.tdem import simple_functions\n",
    "\n",
    "from ipywidgets import interact, IntSlider, FloatSlider, FloatLogSlider"
   ]
  },
  {
   "cell_type": "code",
   "execution_count": 146,
   "id": "9e68e840-4f9f-4053-b749-6bc2bd95e564",
   "metadata": {},
   "outputs": [],
   "source": [
    "h = [10, 10]\n",
    "background_cond = 0.001\n",
    "layer_cond = 0.1\n",
    "sigma = [background_cond, layer_cond, background_cond]\n",
    "\n",
    "ts = np.logspace(-6, -1, 256)\n",
    "\n",
    "rx = tdem.receivers.PointMagneticFluxTimeDerivative(locations=[0, 0, 0], times=ts)\n",
    "\n",
    "#waveform = tdem.sources.RampOffWaveform(2.5E-6)\n",
    "waveform = tdem.sources.StepOffWaveform()\n",
    "src = tdem.sources.CircularLoop(rx, location=[0, 0, 0], radius=35, waveform=waveform)\n",
    "\n",
    "srv = tdem.Survey(src)\n",
    "\n",
    "sim = tdem.Simulation1DLayered(srv, thicknesses=h, sigma=sigma)"
   ]
  },
  {
   "cell_type": "code",
   "execution_count": 147,
   "id": "504a3f2a-1ce5-407f-b49e-0ad09b10a8a6",
   "metadata": {},
   "outputs": [],
   "source": [
    "def app_cond_late_time(v, t, moment):\n",
    "    temp = v**2 * t**5 / (moment**2 * mu_0**5) * 20**2\n",
    "    return temp**(1/3) * np.pi\n",
    "\n",
    "def do_bz2_plot(top_cond, layer_cond, back_cond, top_layer_thick, middle_layer_thick):\n",
    "\n",
    "    ts = sim.survey.source_list[0].receiver_list[0].times\n",
    "    \n",
    "    sim.sigma = [top_cond, layer_cond, back_cond]\n",
    "    sim.thicknesses = [top_layer_thick, middle_layer_thick]\n",
    "    v_sim = -sim.dpred(None)\n",
    "    v_half_top = -simple_functions.vertical_magnetic_flux_time_deriv_horizontal_loop(\n",
    "        ts, sigma=top_cond, radius=src.radius\n",
    "    )\n",
    "    v_half_bot = -simple_functions.vertical_magnetic_flux_time_deriv_horizontal_loop(\n",
    "        ts, sigma=back_cond, radius=src.radius\n",
    "    )\n",
    "    app_cond = app_cond_late_time(v_sim, ts, src.moment)\n",
    "    \n",
    "    fig, axs = plt.subplots(1, 2, sharex=True)\n",
    "    ax = axs[0]\n",
    "    ax.loglog(ts, v_sim)\n",
    "    ax.loglog(ts, v_half_top)\n",
    "    ax.loglog(ts, v_half_bot)\n",
    "    \n",
    "    ax = axs[1]\n",
    "    ax.loglog(ts, app_cond)\n",
    "    ax.axhline(top_cond, color='C1')\n",
    "    ax.axhline(back_cond, color='C2')\n"
   ]
  },
  {
   "cell_type": "markdown",
   "id": "ef2eafc2-a4b7-4a07-bbac-98fd76a2b611",
   "metadata": {
    "slideshow": {
     "slide_type": "subslide"
    }
   },
   "source": [
    "# TDEM Interpretation"
   ]
  },
  {
   "cell_type": "markdown",
   "id": "c0ff4c9a-3330-4ef7-ae3b-a6c4be89f77e",
   "metadata": {},
   "source": [
    "* Simple interpretation examples\n",
    "* Inversion techniques\n",
    "  * 1D Inversion\n",
    "  * 2D and 3D Inversion\n",
    "  * Stitched Inversions\n"
   ]
  },
  {
   "cell_type": "markdown",
   "id": "fa41264f-a573-43e6-9f68-a87707b8e1c1",
   "metadata": {},
   "source": [
    "## Layered Earth\n",
    "* For central loop soundings\n",
    "* Essentially transitions between the different asymptotic values at late time"
   ]
  },
  {
   "cell_type": "code",
   "execution_count": 155,
   "id": "73a8100d-1274-4585-a435-da548bd8cb42",
   "metadata": {},
   "outputs": [
    {
     "data": {
      "application/vnd.jupyter.widget-view+json": {
       "model_id": "97d693f849d14f6fba896af45e254db9",
       "version_major": 2,
       "version_minor": 0
      },
      "text/plain": [
       "interactive(children=(FloatLogSlider(value=0.001, description='top_cond', max=1.0, min=-5.0), FloatLogSlider(v…"
      ]
     },
     "metadata": {},
     "output_type": "display_data"
    }
   ],
   "source": [
    "gen_sigma_slider = lambda : FloatLogSlider(1E-3, min=-5, max=1)\n",
    "gen_thick_slider = lambda : FloatLogSlider(1E2, min=0, max=4)\n",
    "out = interact(\n",
    "    do_bz2_plot,\n",
    "    top_cond=gen_sigma_slider(),\n",
    "    layer_cond=gen_sigma_slider(),\n",
    "    back_cond=gen_sigma_slider(), \n",
    "    top_layer_thick=gen_thick_slider(),\n",
    "    middle_layer_thick=gen_thick_slider()\n",
    ");"
   ]
  },
  {
   "cell_type": "code",
   "execution_count": null,
   "id": "ee61f37e-ac28-48e4-ab0f-df0399d01d6c",
   "metadata": {},
   "outputs": [],
   "source": []
  }
 ],
 "metadata": {
  "kernelspec": {
   "display_name": "Python 3 (ipykernel)",
   "language": "python",
   "name": "python3"
  },
  "language_info": {
   "codemirror_mode": {
    "name": "ipython",
    "version": 3
   },
   "file_extension": ".py",
   "mimetype": "text/x-python",
   "name": "python",
   "nbconvert_exporter": "python",
   "pygments_lexer": "ipython3",
   "version": "3.12.6"
  }
 },
 "nbformat": 4,
 "nbformat_minor": 5
}
