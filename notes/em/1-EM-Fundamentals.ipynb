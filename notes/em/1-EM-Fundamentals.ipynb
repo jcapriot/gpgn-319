{
 "cells": [
  {
   "cell_type": "code",
   "execution_count": 3,
   "id": "02299d5d-b749-43ac-ba3d-9b1a3f65703d",
   "metadata": {
    "editable": true,
    "slideshow": {
     "slide_type": "skip"
    },
    "tags": []
   },
   "outputs": [
    {
     "data": {
      "text/html": [
       "\n",
       "<link rel=\"stylesheet\" href=\"rise.css\"/>  \n"
      ],
      "text/plain": [
       "<IPython.core.display.HTML object>"
      ]
     },
     "metadata": {},
     "output_type": "display_data"
    }
   ],
   "source": [
    "%%HTML\n",
    "\n",
    "<link rel=\"stylesheet\" href=\"rise.css\"/>  "
   ]
  },
  {
   "cell_type": "code",
   "execution_count": 4,
   "id": "692af8d7-d7e7-4b52-9ee4-d3c2c665274a",
   "metadata": {
    "editable": true,
    "slideshow": {
     "slide_type": ""
    },
    "tags": []
   },
   "outputs": [],
   "source": [
    "from IPython.display import Video"
   ]
  },
  {
   "cell_type": "markdown",
   "id": "78cde2c4-fc00-4136-99b2-3ec97818dd18",
   "metadata": {
    "editable": true,
    "slideshow": {
     "slide_type": "slide"
    },
    "tags": []
   },
   "source": [
    "# Electromagnetics\n",
    "\n",
    "Recall Maxwell's Equations:"
   ]
  },
  {
   "cell_type": "markdown",
   "id": "641a07fa-c5c8-4019-aec9-6b69930e506c",
   "metadata": {
    "editable": true,
    "slideshow": {
     "slide_type": "fragment"
    },
    "tags": []
   },
   "source": [
    "| Equation |  Integral Form | Differential Form | Name|\n",
    "|---|---|---|---|\n",
    "| 1 |$$\\iint \\vec{E}\\cdot\\vec{\\partial A} = \\frac{q_{enclosed}}{\\varepsilon_0}$$| $$\\nabla \\cdot \\vec{E} = \\frac{\\rho_e}{\\varepsilon_0}$$| Gauss's Law|\n",
    "| 2 |$$\\iint \\vec{B}\\cdot\\vec{\\partial A} = 0$$| $$\\nabla \\cdot \\vec{B} = 0$$| unnamed|\n",
    "| 3 |$$\\oint\\vec{E}\\cdot\\vec{\\partial l} = -\\iint \\frac{\\partial \\vec{B}}{\\partial t}\\cdot \\vec{\\partial A}$$| $$\\nabla \\times \\vec{E} = -\\frac{\\partial B}{\\partial t}$$| Faraday's Law|\n",
    "| 4 |$$\\oint \\vec{B}\\cdot\\vec{\\partial l} = \\mu_0 I + \\mu_o \\varepsilon_0 \\iint \\frac{\\partial \\vec{E} }{\\partial t}\\cdot \\vec{\\partial A}$$| $$\\nabla \\times \\vec{B} = \\mu_0 (\\vec{J} + \\varepsilon_0 \\frac{\\partial \\vec{E}}{\\partial t})$$| Ampere's Law with Maxwell's correction|"
   ]
  },
  {
   "cell_type": "markdown",
   "id": "8985ab0b-72d0-4b3c-a3de-88cae3c03f96",
   "metadata": {
    "editable": true,
    "slideshow": {
     "slide_type": "fragment"
    },
    "tags": []
   },
   "source": [
    "These completly describe the theory of electromagnetism."
   ]
  },
  {
   "cell_type": "markdown",
   "id": "17321706-3b94-40d0-b39d-c7cf60c480fe",
   "metadata": {
    "editable": true,
    "slideshow": {
     "slide_type": "slide"
    },
    "tags": []
   },
   "source": [
    "# The issue with DC in practice\n",
    "Consider a conductor burried below a resistive layer...\n",
    "\n",
    "![Resistive DC](resources/1-resistiveDC.png \"Resistive layer\")\n"
   ]
  },
  {
   "cell_type": "markdown",
   "id": "29b1f7cd-1f5c-448b-ab0b-8787f83e9ae7",
   "metadata": {
    "editable": true,
    "slideshow": {
     "slide_type": "subslide"
    },
    "tags": []
   },
   "source": [
    "\n",
    "Or a conductor burried below a conductive layer...\n",
    "®\n",
    "![Resistive DC](resources/1-conductiveDC.png \"Conductivelayer\")\n"
   ]
  },
  {
   "cell_type": "markdown",
   "id": "885402e6-ec13-4c8f-b63b-2f35f78fb82f",
   "metadata": {
    "editable": true,
    "slideshow": {
     "slide_type": "subslide"
    },
    "tags": []
   },
   "source": [
    "So... what do we do..."
   ]
  },
  {
   "cell_type": "markdown",
   "id": "5382c8e0-6581-4cf4-8eef-9d3a2deba33f",
   "metadata": {
    "editable": true,
    "slideshow": {
     "slide_type": "slide"
    },
    "tags": []
   },
   "source": [
    "# Basic EM principals in geophysics"
   ]
  },
  {
   "cell_type": "markdown",
   "id": "0b28bd8b-c449-4cba-8ee1-18a6abf643a9",
   "metadata": {
    "editable": true,
    "slideshow": {
     "slide_type": "fragment"
    },
    "tags": []
   },
   "source": [
    "Focusing on the last two of Maxwell's equations:"
   ]
  },
  {
   "cell_type": "markdown",
   "id": "a26e6e9c-6619-4e2d-9333-5fde56f206ab",
   "metadata": {
    "editable": true,
    "slideshow": {
     "slide_type": "slide"
    },
    "tags": []
   },
   "source": [
    "## Ampere's Law (No correction)\n",
    "$$\\nabla \\vec{H} = \\vec{J} $$"
   ]
  },
  {
   "cell_type": "markdown",
   "id": "e1705302-68cb-4e81-9fe7-08bf5638017f",
   "metadata": {
    "editable": true,
    "slideshow": {
     "slide_type": ""
    },
    "tags": []
   },
   "source": [
    "<div class=\"row\">\n",
    "<div class=\"column\">\n",
    "\n",
    "* Electric currents produce magnetic fields\n",
    "* Right hand rule to determine direction of magnetic field lines.\n",
    "      \n",
    "</div>\n",
    "<div class=\"column\">\n",
    "\n",
    "![Amperes](resources/1-B-generator.png \"Creating a magnetic field\")      \n",
    "</div>\n",
    "</div>"
   ]
  },
  {
   "cell_type": "markdown",
   "id": "85184b7a-d17a-4a64-9d75-dd04599789cf",
   "metadata": {
    "editable": true,
    "slideshow": {
     "slide_type": "subslide"
    },
    "tags": []
   },
   "source": [
    "### B - Field due to a wire\n",
    "$$\\vec{B} = \\frac{\\mu_0 I_{enc}}{2 \\pi r}\\hat\\phi$$\n",
    "<div class=\"row\">\n",
    "  <div class=\"column\">\n",
    "\n",
    "\n",
    "* Right hand rule!\n",
    "    * Thumb in the direction of wire segment\n",
    "    * Field curls in the direction of your fingers\n",
    "* B field proportional to:\n",
    "    * current ($I$)\n",
    "    * inverse distance ($1/r$)\n",
    "  \n",
    "  </div>\n",
    "  <div class=\"column\">\n",
    "\n",
    "![Amperes](resources/1-wire-B.png \"B field due to a wire\")\n",
    "\n",
    "  </div>\n",
    "</div>"
   ]
  },
  {
   "cell_type": "markdown",
   "id": "9019ed77-1730-4e51-b1c0-25683d8ab145",
   "metadata": {
    "editable": true,
    "slideshow": {
     "slide_type": "subslide"
    },
    "tags": []
   },
   "source": [
    "### B - field due to a current loop\n",
    "$$\\vec{B} = \\frac{\\mu_0 m}{ 4 \\pi r^3}\\left(2 \\cos\\theta \\hat{r} + \\sin\\theta \\hat\\theta\\right)$$\n",
    "$$ m = I * A $$\n",
    "<div class=\"row\">\n",
    "  <div class=\"column\">\n",
    "\n",
    "* Right hand rule!\n",
    "    * Curl fingers in the direction of current flow\n",
    "    * Field in center of loop points towards your thumb\n",
    "* B field proportional to:\n",
    "    * current ($I$)\n",
    "    * area ($A$)\n",
    "    * inverse distance cubed ($1/r^3$)\n",
    "  \n",
    "  </div>\n",
    "  <div class=\"column\">\n",
    "\n",
    "![Amperes](resources/1-loop-B.png \"B field due to a loop\")\n",
    "\n",
    "  </div>\n",
    "</div>\n",
    "\n",
    "\n"
   ]
  },
  {
   "cell_type": "markdown",
   "id": "d076672d-a100-4328-96ce-aed6eca9d5c0",
   "metadata": {
    "editable": true,
    "slideshow": {
     "slide_type": "slide"
    },
    "tags": []
   },
   "source": [
    "## Faraday's Law\n"
   ]
  },
  {
   "cell_type": "markdown",
   "id": "da080acc-f658-4410-b3e8-565b723ffb32",
   "metadata": {
    "editable": true,
    "slideshow": {
     "slide_type": ""
    },
    "tags": []
   },
   "source": [
    "### In differential form:\n",
    "\n",
    "<div class=\"row\">\n",
    "  <div class=\"column\">\n",
    "\n",
    "$$\\nabla \\times \\vec{E} = - \\frac{\\partial \\vec{B}}{\\partial t}$$\n",
    "\n",
    "* Time dependant magnetic fields produce electric fields\n",
    "* Lenz's Law (The negative sign in Faraday's Law):\n",
    "    * Nature **opposes** changes in the magnetic field\n",
    "    * Induced currents will attempt to re-create the magnetic field as it was\n",
    "  \n",
    "  </div>\n",
    "  <div class=\"column\">\n",
    "\n",
    "![Amperes](resources/1-faraday-loop.png \"B field due to a wire\")\n",
    "\n",
    "  </div>\n",
    "</div>"
   ]
  },
  {
   "cell_type": "markdown",
   "id": "c5fdad91-1d43-47be-ad4d-1d39e113c949",
   "metadata": {
    "editable": true,
    "slideshow": {
     "slide_type": "subslide"
    },
    "tags": []
   },
   "source": [
    "### In integral form:\n",
    "<div class=\"row\">\n",
    "  <div class=\"column\">\n",
    "\n",
    "* Time varying magnetic flux induces a voltage in a wire loop\n",
    "    * Also called an Electromotive Force (EMF)\n",
    "$$V = EMF = -\\frac{\\partial \\phi_B}{\\partial t}$$\n",
    "\n",
    "* Magnetic Flux is measured through a surface (any surface) enclosed by the loop\n",
    "$$ \\phi_B = \\int_A \\vec{B} \\cdot \\vec{dA} $$\n",
    "\n",
    "  </div>\n",
    "  <div class=\"column\">\n",
    "\n",
    "* Induced current create a magnetic field that **opposes** the change!\n",
    "* If we can control the $\\vec{B}$ field and the loop, we can do three things to alter $V$\n",
    "    * Change the magnitude of $\\vec{B}$\n",
    "    * Change the size of the loop (alter $A$).\n",
    "    * Make the $\\vec{B}$ field change faster (or slower).\n",
    "\n",
    "  </div>\n",
    "  <div class=\"column\">\n",
    "\n",
    "![Amperes](resources/1-faraday-flux.png \"B field due to a wire\")\n",
    "\n",
    "  </div>\n",
    "</div>"
   ]
  },
  {
   "cell_type": "code",
   "execution_count": 10,
   "id": "07d77ff0-bee1-4476-bf4e-06d05f8a0d14",
   "metadata": {
    "editable": true,
    "slideshow": {
     "slide_type": "subslide"
    },
    "tags": []
   },
   "outputs": [
    {
     "data": {
      "text/html": [
       "<video src=\"resources/1-induction-example.mp4\" controls width=85%  >\n",
       "      Your browser does not support the <code>video</code> element.\n",
       "    </video>"
      ],
      "text/plain": [
       "<IPython.core.display.Video object>"
      ]
     },
     "execution_count": 10,
     "metadata": {},
     "output_type": "execute_result"
    }
   ],
   "source": [
    "Video(\"resources/1-induction-example.mp4\", html_attributes='controls width=85%')"
   ]
  },
  {
   "cell_type": "markdown",
   "id": "7c2d7117-03fd-4747-89f5-8d6ca1f66c28",
   "metadata": {
    "editable": true,
    "slideshow": {
     "slide_type": "subslide"
    },
    "tags": []
   },
   "source": [
    "## Ohm's Law\n",
    "This you should be familiar with\n",
    "\n",
    "$$ \\vec{J} = \\sigma \\vec{E}$$\n",
    "\n",
    "<div class=\"row\">\n",
    "  <div class=\"column\">\n",
    "\n",
    "* It still applies, relating how an electric field that exists in a conductive medium induces currents.\n",
    "* Remember\n",
    "  * Currents pulled into conductors\n",
    "  * Currents diverge around resistors\n",
    "\n",
    "  </div>\n",
    "  <div class=\"column\">\n",
    "\n",
    "![Amperes](resources/1-ohms.png \"B field due to a wire\")\n",
    "\n",
    "  </div>\n",
    "</div>\n"
   ]
  },
  {
   "cell_type": "markdown",
   "id": "855582fa-247e-4ce0-a6fe-163efc868590",
   "metadata": {
    "editable": true,
    "slideshow": {
     "slide_type": "slide"
    },
    "tags": []
   },
   "source": [
    "# A (Lossy) wave equation:\n",
    "\n",
    "Under some common assumptions relevant to geophysics:\n",
    "\n",
    "1) Ohm's Law\n",
    "2) Reasonable conductors\n",
    "\n",
    "\n",
    "We can often rearrange Maxwell's equations in a conductive medium to solve for 1 quantity, for example the $E$ field becomes\n",
    "\n",
    "$$\n",
    "\\nabla^2 \\vec{E} = \\mu\\sigma\\frac{\\partial\\vec{E}}{\\partial t} + \\mu\\varepsilon\\frac{\\partial^2\\vec{E}}{\\partial t^2}\n",
    "$$\n",
    "\n",
    "Then use one of the starting Maxwell equations to obtain the other quantities."
   ]
  },
  {
   "cell_type": "markdown",
   "id": "090806d3-1acb-4c49-bb30-cb7b0e2f2e46",
   "metadata": {
    "editable": true,
    "slideshow": {
     "slide_type": "subslide"
    },
    "tags": []
   },
   "source": [
    "The three physical properties of interest:\n",
    "\n",
    "* Electrical Conductivity (Or resistivity) $\\sigma$ (or $\\rho = 1/\\sigma$)\n",
    "* Magnetic Permeability ($\\mu$)\n",
    "    * Permeability of a vaccuum: $\\mu_0 = 4\\pi \\times 10^{-7}$ Henries per meter (H/m)\n",
    "* Dielectric Permitivity ($\\varepsilon$)\n",
    "    * Permitivitity of a vaccuum = $\\varepsilon_0 = 8.8541878128 \\times 10^{-12}$ Farads per meter (F/m)"
   ]
  },
  {
   "cell_type": "markdown",
   "id": "44cbdb89-e208-45c7-b3d6-334e0e35b8f0",
   "metadata": {
    "editable": true,
    "slideshow": {
     "slide_type": "fragment"
    },
    "tags": []
   },
   "source": [
    "#### An aside\n",
    "\n",
    "What does the following equal?\n",
    "\n",
    "$$\n",
    "\\sqrt{\\frac{1}{\\varepsilon_0 \\mu_0}} = ?\n",
    "$$"
   ]
  },
  {
   "cell_type": "markdown",
   "id": "ee86134e-9dca-4d2f-bee3-193ba1a5a187",
   "metadata": {
    "editable": true,
    "slideshow": {
     "slide_type": "subslide"
    },
    "tags": []
   },
   "source": [
    "## The two regimes\n",
    "\n",
    "### Induction/Diffusion:\n",
    "\n",
    "Consider a slowly changing field in a conductive medium\n",
    "\n",
    "* $\\sigma$ is \"big\"\n",
    "* $\\frac{\\partial\\vec{E}}{\\partial t}$ is \"small\"\n",
    "\n",
    "then:\n",
    "$$|\\sigma\\frac{\\partial\\vec{E}}{\\partial t}| >> |\\varepsilon\\frac{\\partial^2\\vec{E}}{\\partial t^2}|$$\n",
    "\n",
    "Thus the first term in the right hand side of the lossy wave equation dominates, allowing us to approximate it as:\n",
    "\n",
    "$$\n",
    "\\nabla^2 \\vec{E} \\approx \\mu\\sigma\\frac{\\partial\\vec{E}}{\\partial t}\n",
    "$$\n",
    "\n",
    "Which is a diffusion equation"
   ]
  },
  {
   "cell_type": "markdown",
   "id": "2ebb2759-7924-4cd4-a521-ffa7f5247895",
   "metadata": {
    "editable": true,
    "slideshow": {
     "slide_type": "subslide"
    },
    "tags": []
   },
   "source": [
    "### Wave Propogation\n",
    "Consider a rapidly changing electric field in a poorly conductive medium.\n",
    "\n",
    "* $\\sigma$ is \"small\"\n",
    "* $\\frac{\\partial\\vec{E}}{\\partial t}$ is \"big\"\n",
    "\n",
    "then:\n",
    "$$|\\sigma\\frac{\\partial\\vec{E}}{\\partial t}| << |\\varepsilon\\frac{\\partial^2\\vec{E}}{\\partial t^2}|$$\n",
    "\n",
    "Thus the first term in the right hand side of the lossy wave equation dominates, allowing us to approximate it as:\n",
    "\n",
    "$$\n",
    "\\nabla^2 \\vec{E} \\approx \\mu\\varepsilon\\frac{\\partial^2\\vec{E}}{\\partial t^2}\n",
    "$$\n",
    "\n",
    "Which is a wave equation"
   ]
  },
  {
   "cell_type": "markdown",
   "id": "7648c89e-691e-47dc-a721-1034cf0f8e19",
   "metadata": {
    "editable": true,
    "slideshow": {
     "slide_type": "subslide"
    },
    "tags": []
   },
   "source": [
    "* What is \"big\" and \"small\" is relative, and we will spend more time discussing this in the future."
   ]
  },
  {
   "cell_type": "markdown",
   "id": "7b93e410-1f9d-45f8-b8c0-41e34754231f",
   "metadata": {
    "editable": true,
    "slideshow": {
     "slide_type": "subslide"
    },
    "tags": []
   },
   "source": [
    "## In GP instrumentation\n",
    "\n",
    "1. Induction based (or diffusion based)\n",
    "  * Time domain EM (TDEM / TEM)\n",
    "  * Frequency domain EM (FDEM / FEM)\n",
    "\n",
    "1. Wave based\n",
    "   * Ground Penetrating Radar (GPR)\n",
    "\n",
    "The choice of which method to use should become apparent to you as we move throughout the corse.\n",
    "\n",
    "For now, were going to start with TDEM"
   ]
  }
 ],
 "metadata": {
  "kernelspec": {
   "display_name": "Python 3 (ipykernel)",
   "language": "python",
   "name": "python3"
  },
  "language_info": {
   "codemirror_mode": {
    "name": "ipython",
    "version": 3
   },
   "file_extension": ".py",
   "mimetype": "text/x-python",
   "name": "python",
   "nbconvert_exporter": "python",
   "pygments_lexer": "ipython3",
   "version": "3.11.10"
  },
  "rise": {
   "enable_chalkboard": true,
   "scroll": true
  }
 },
 "nbformat": 4,
 "nbformat_minor": 5
}
