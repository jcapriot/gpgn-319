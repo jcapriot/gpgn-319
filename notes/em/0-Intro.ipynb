{
 "cells": [
  {
   "cell_type": "markdown",
   "id": "610e0050-de73-4ff6-8401-80755f9a35e1",
   "metadata": {
    "editable": true,
    "slideshow": {
     "slide_type": "slide"
    },
    "tags": []
   },
   "source": [
    "# Welcome back to Applied Geophysics II"
   ]
  },
  {
   "cell_type": "markdown",
   "id": "ecfb6191-6a77-4923-aad1-21f97f39af69",
   "metadata": {
    "editable": true,
    "slideshow": {
     "slide_type": "fragment"
    },
    "tags": []
   },
   "source": [
    "Todays goals:\n",
    "1. (Re)introduction\n",
    "    * Changes/Consistencies from Applied I\n",
    "1. Notebook return\n",
    "1. Beginnings of Electromagnetics"
   ]
  },
  {
   "cell_type": "markdown",
   "id": "b29694f9-c355-43be-9d4f-134809e0058e",
   "metadata": {
    "editable": true,
    "slideshow": {
     "slide_type": "subslide"
    },
    "tags": []
   },
   "source": [
    "## Reintroduction"
   ]
  },
  {
   "cell_type": "markdown",
   "id": "ef92f600-7474-4716-8142-81ce1dfa85be",
   "metadata": {
    "editable": true,
    "slideshow": {
     "slide_type": "fragment"
    },
    "tags": []
   },
   "source": [
    "### Class strucuture:\n",
    "* Two instructors\n",
    "    * Dr. Joseph Capriotti (EM)\n",
    "    * Dr. Paul Sava (later on) (Wavefield processing)\n",
    "    * Handoff around President's Day."
   ]
  },
  {
   "cell_type": "markdown",
   "id": "300d7b99-6627-4b87-9e4c-b26f73ac2730",
   "metadata": {
    "editable": true,
    "slideshow": {
     "slide_type": "fragment"
    },
    "tags": []
   },
   "source": [
    "### General weekly structure:\n",
    "\n",
    "* MW Lecture (10:00-10:50)\n",
    "* F Lab (12:00-2:50)\n",
    "\n",
    "Will have two class periods this semester to prep for the lab each week!"
   ]
  },
  {
   "cell_type": "markdown",
   "id": "12c40f31-f7b0-4e1e-ae8c-f554bdcb7356",
   "metadata": {
    "editable": true,
    "slideshow": {
     "slide_type": "subslide"
    },
    "tags": []
   },
   "source": [
    "### Grading\n",
    "\n",
    "4 topics:\n",
    "\n",
    "* Weekly lab reports\n",
    "* Group Quizzes\n",
    "* Final Project\n",
    "* Participation"
   ]
  },
  {
   "cell_type": "markdown",
   "id": "62f6f857-fc5a-46d7-9c0c-0f0940e2c244",
   "metadata": {
    "editable": true,
    "slideshow": {
     "slide_type": "subslide"
    },
    "tags": []
   },
   "source": [
    "#### Lab Reports\n",
    "Continue using the feedback based grading system:\n",
    "1. Incomplete\n",
    "1. Near Miss\n",
    "1. Meets Expectations\n",
    "1. Exceeds Expectations\n",
    "\n",
    "**note**: You will have one chance to re-submit each lab report\n",
    "\n",
    "\n",
    "\n",
    "|Grade|# submitted (out of 13)|\n",
    "|----|---|\n",
    "|A|13(+4)|\n",
    "|A- | 13 (+2) |\n",
    "| B+ | 13 |\n",
    "| B | 11|\n",
    "| C | 9 |\n",
    "| D | 7 |\n",
    "| F | <7 |\n"
   ]
  },
  {
   "cell_type": "markdown",
   "id": "87926fee-608c-4589-8855-a297ef9d1507",
   "metadata": {
    "editable": true,
    "slideshow": {
     "slide_type": "subslide"
    },
    "tags": []
   },
   "source": [
    "#### Lab notebooks:\n",
    "\n",
    "* Not a specific grade category\n",
    "* Only required for outdoor labs\n",
    "* Will be included as a graded portion of the weekly lab reports for those labs\n",
    "* You can continue to build off of your Applied I notebook.\n"
   ]
  },
  {
   "cell_type": "markdown",
   "id": "cc59dd21-c963-4da2-bfd2-cbb823d9b851",
   "metadata": {
    "editable": true,
    "slideshow": {
     "slide_type": "subslide"
    },
    "tags": []
   },
   "source": [
    "#### Group Quizzes\n",
    "* Will continue to use the format from last semester, with 3 more group quizzes\n",
    "* Will announce in class dates for the quizzes, plan to be there!"
   ]
  },
  {
   "cell_type": "markdown",
   "id": "97cdb755-55f3-4be9-a955-9b8ced24a999",
   "metadata": {
    "editable": true,
    "slideshow": {
     "slide_type": "subslide"
    },
    "tags": []
   },
   "source": [
    "#### Participation\n",
    "* Please show up for class and lab. Let us know if you cannot make it in.\n",
    "* Actively participate in lab."
   ]
  },
  {
   "cell_type": "markdown",
   "id": "6dc13030-4d60-4652-8ffe-7ea0cf25213e",
   "metadata": {
    "editable": true,
    "slideshow": {
     "slide_type": "slide"
    },
    "tags": []
   },
   "source": [
    "## Notebooks!"
   ]
  }
 ],
 "metadata": {
  "kernelspec": {
   "display_name": "Python 3 (ipykernel)",
   "language": "python",
   "name": "python3"
  },
  "language_info": {
   "codemirror_mode": {
    "name": "ipython",
    "version": 3
   },
   "file_extension": ".py",
   "mimetype": "text/x-python",
   "name": "python",
   "nbconvert_exporter": "python",
   "pygments_lexer": "ipython3",
   "version": "3.11.10"
  }
 },
 "nbformat": 4,
 "nbformat_minor": 5
}
